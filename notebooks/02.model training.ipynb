{
 "cells": [
  {
   "cell_type": "code",
   "execution_count": 2,
   "metadata": {},
   "outputs": [],
   "source": [
    "# import libraries needed for exploratory data analysis (eda) and feature engineering (fe)\n",
    "import os\n",
    "import time\n",
    "import datetime\n",
    "import pandas as pd\n",
    "pd.set_option('display.max_columns',None)\n",
    "import numpy as np\n",
    "import matplotlib.pyplot as plt\n",
    "%matplotlib inline\n",
    "import seaborn as sns\n",
    "import warnings\n",
    "warnings.filterwarnings('ignore')\n",
    "\n",
    "# import libraries needed for model training\n",
    "from sklearn.model_selection import train_test_split, GridSearchCV, RandomizedSearchCV\n",
    "from sklearn.metrics import r2_score, mean_absolute_error, mean_squared_error, root_mean_squared_error\n",
    "from sklearn.preprocessing import OneHotEncoder, StandardScaler\n",
    "from sklearn.compose import ColumnTransformer\n",
    "from sklearn.linear_model import LinearRegression, Ridge, Lasso\n",
    "from sklearn.tree import DecisionTreeRegressor\n",
    "from sklearn.neighbors import KNeighborsRegressor\n",
    "from sklearn.ensemble import RandomForestRegressor,AdaBoostRegressor, ExtraTreesRegressor, BaggingRegressor, GradientBoostingRegressor\n",
    "from sklearn.svm import SVR\n",
    "from catboost import CatBoostRegressor\n",
    "from xgboost import XGBRegressor"
   ]
  },
  {
   "cell_type": "code",
   "execution_count": 3,
   "metadata": {},
   "outputs": [],
   "source": [
    "df = pd.read_csv('../data/insurance.csv')"
   ]
  },
  {
   "cell_type": "code",
   "execution_count": 4,
   "metadata": {},
   "outputs": [
    {
     "data": {
      "text/html": [
       "<div>\n",
       "<style scoped>\n",
       "    .dataframe tbody tr th:only-of-type {\n",
       "        vertical-align: middle;\n",
       "    }\n",
       "\n",
       "    .dataframe tbody tr th {\n",
       "        vertical-align: top;\n",
       "    }\n",
       "\n",
       "    .dataframe thead th {\n",
       "        text-align: right;\n",
       "    }\n",
       "</style>\n",
       "<table border=\"1\" class=\"dataframe\">\n",
       "  <thead>\n",
       "    <tr style=\"text-align: right;\">\n",
       "      <th></th>\n",
       "      <th>age</th>\n",
       "      <th>sex</th>\n",
       "      <th>bmi</th>\n",
       "      <th>children</th>\n",
       "      <th>smoker</th>\n",
       "      <th>region</th>\n",
       "      <th>charges</th>\n",
       "    </tr>\n",
       "  </thead>\n",
       "  <tbody>\n",
       "    <tr>\n",
       "      <th>0</th>\n",
       "      <td>19</td>\n",
       "      <td>female</td>\n",
       "      <td>27.900</td>\n",
       "      <td>0</td>\n",
       "      <td>yes</td>\n",
       "      <td>southwest</td>\n",
       "      <td>16884.92400</td>\n",
       "    </tr>\n",
       "    <tr>\n",
       "      <th>1</th>\n",
       "      <td>18</td>\n",
       "      <td>male</td>\n",
       "      <td>33.770</td>\n",
       "      <td>1</td>\n",
       "      <td>no</td>\n",
       "      <td>southeast</td>\n",
       "      <td>1725.55230</td>\n",
       "    </tr>\n",
       "    <tr>\n",
       "      <th>2</th>\n",
       "      <td>28</td>\n",
       "      <td>male</td>\n",
       "      <td>33.000</td>\n",
       "      <td>3</td>\n",
       "      <td>no</td>\n",
       "      <td>southeast</td>\n",
       "      <td>4449.46200</td>\n",
       "    </tr>\n",
       "    <tr>\n",
       "      <th>3</th>\n",
       "      <td>33</td>\n",
       "      <td>male</td>\n",
       "      <td>22.705</td>\n",
       "      <td>0</td>\n",
       "      <td>no</td>\n",
       "      <td>northwest</td>\n",
       "      <td>21984.47061</td>\n",
       "    </tr>\n",
       "    <tr>\n",
       "      <th>4</th>\n",
       "      <td>32</td>\n",
       "      <td>male</td>\n",
       "      <td>28.880</td>\n",
       "      <td>0</td>\n",
       "      <td>no</td>\n",
       "      <td>northwest</td>\n",
       "      <td>3866.85520</td>\n",
       "    </tr>\n",
       "  </tbody>\n",
       "</table>\n",
       "</div>"
      ],
      "text/plain": [
       "   age     sex     bmi  children smoker     region      charges\n",
       "0   19  female  27.900         0    yes  southwest  16884.92400\n",
       "1   18    male  33.770         1     no  southeast   1725.55230\n",
       "2   28    male  33.000         3     no  southeast   4449.46200\n",
       "3   33    male  22.705         0     no  northwest  21984.47061\n",
       "4   32    male  28.880         0     no  northwest   3866.85520"
      ]
     },
     "execution_count": 4,
     "metadata": {},
     "output_type": "execute_result"
    }
   ],
   "source": [
    "df.head(5) #display head (top 5 rows)"
   ]
  },
  {
   "cell_type": "code",
   "execution_count": 5,
   "metadata": {},
   "outputs": [
    {
     "name": "stdout",
     "output_type": "stream",
     "text": [
      "Shape:  (1338, 7)\n",
      "Number of Columns: 7\n",
      "Number of Rows: 1338\n"
     ]
    }
   ],
   "source": [
    "print(f\"Shape: \",df.shape) #get total shape of dataset, total rows and columns\n",
    "print(\"Number of Columns:\", df.shape[1])\n",
    "print(\"Number of Rows:\", df.shape[0])"
   ]
  },
  {
   "cell_type": "code",
   "execution_count": 6,
   "metadata": {},
   "outputs": [
    {
     "name": "stdout",
     "output_type": "stream",
     "text": [
      "<class 'pandas.core.frame.DataFrame'>\n",
      "RangeIndex: 1338 entries, 0 to 1337\n",
      "Data columns (total 7 columns):\n",
      " #   Column    Non-Null Count  Dtype  \n",
      "---  ------    --------------  -----  \n",
      " 0   age       1338 non-null   int64  \n",
      " 1   sex       1338 non-null   object \n",
      " 2   bmi       1338 non-null   float64\n",
      " 3   children  1338 non-null   int64  \n",
      " 4   smoker    1338 non-null   object \n",
      " 5   region    1338 non-null   object \n",
      " 6   charges   1338 non-null   float64\n",
      "dtypes: float64(2), int64(2), object(3)\n",
      "memory usage: 73.3+ KB\n"
     ]
    }
   ],
   "source": [
    "df.info() #quick info about data"
   ]
  },
  {
   "cell_type": "code",
   "execution_count": 7,
   "metadata": {},
   "outputs": [
    {
     "data": {
      "text/html": [
       "<div>\n",
       "<style scoped>\n",
       "    .dataframe tbody tr th:only-of-type {\n",
       "        vertical-align: middle;\n",
       "    }\n",
       "\n",
       "    .dataframe tbody tr th {\n",
       "        vertical-align: top;\n",
       "    }\n",
       "\n",
       "    .dataframe thead th {\n",
       "        text-align: right;\n",
       "    }\n",
       "</style>\n",
       "<table border=\"1\" class=\"dataframe\">\n",
       "  <thead>\n",
       "    <tr style=\"text-align: right;\">\n",
       "      <th></th>\n",
       "      <th>count</th>\n",
       "      <th>mean</th>\n",
       "      <th>std</th>\n",
       "      <th>min</th>\n",
       "      <th>25%</th>\n",
       "      <th>50%</th>\n",
       "      <th>75%</th>\n",
       "      <th>max</th>\n",
       "    </tr>\n",
       "  </thead>\n",
       "  <tbody>\n",
       "    <tr>\n",
       "      <th>age</th>\n",
       "      <td>1338.0</td>\n",
       "      <td>39.207025</td>\n",
       "      <td>14.049960</td>\n",
       "      <td>18.0000</td>\n",
       "      <td>27.00000</td>\n",
       "      <td>39.000</td>\n",
       "      <td>51.000000</td>\n",
       "      <td>64.00000</td>\n",
       "    </tr>\n",
       "    <tr>\n",
       "      <th>bmi</th>\n",
       "      <td>1338.0</td>\n",
       "      <td>30.663397</td>\n",
       "      <td>6.098187</td>\n",
       "      <td>15.9600</td>\n",
       "      <td>26.29625</td>\n",
       "      <td>30.400</td>\n",
       "      <td>34.693750</td>\n",
       "      <td>53.13000</td>\n",
       "    </tr>\n",
       "    <tr>\n",
       "      <th>children</th>\n",
       "      <td>1338.0</td>\n",
       "      <td>1.094918</td>\n",
       "      <td>1.205493</td>\n",
       "      <td>0.0000</td>\n",
       "      <td>0.00000</td>\n",
       "      <td>1.000</td>\n",
       "      <td>2.000000</td>\n",
       "      <td>5.00000</td>\n",
       "    </tr>\n",
       "    <tr>\n",
       "      <th>charges</th>\n",
       "      <td>1338.0</td>\n",
       "      <td>13270.422265</td>\n",
       "      <td>12110.011237</td>\n",
       "      <td>1121.8739</td>\n",
       "      <td>4740.28715</td>\n",
       "      <td>9382.033</td>\n",
       "      <td>16639.912515</td>\n",
       "      <td>63770.42801</td>\n",
       "    </tr>\n",
       "  </tbody>\n",
       "</table>\n",
       "</div>"
      ],
      "text/plain": [
       "           count          mean           std        min         25%       50%  \\\n",
       "age       1338.0     39.207025     14.049960    18.0000    27.00000    39.000   \n",
       "bmi       1338.0     30.663397      6.098187    15.9600    26.29625    30.400   \n",
       "children  1338.0      1.094918      1.205493     0.0000     0.00000     1.000   \n",
       "charges   1338.0  13270.422265  12110.011237  1121.8739  4740.28715  9382.033   \n",
       "\n",
       "                   75%          max  \n",
       "age          51.000000     64.00000  \n",
       "bmi          34.693750     53.13000  \n",
       "children      2.000000      5.00000  \n",
       "charges   16639.912515  63770.42801  "
      ]
     },
     "execution_count": 7,
     "metadata": {},
     "output_type": "execute_result"
    }
   ],
   "source": [
    "df.describe().transpose() #statistics for numerical datatypes"
   ]
  },
  {
   "cell_type": "code",
   "execution_count": 8,
   "metadata": {},
   "outputs": [
    {
     "data": {
      "text/plain": [
       "age         0\n",
       "sex         0\n",
       "bmi         0\n",
       "children    0\n",
       "smoker      0\n",
       "region      0\n",
       "charges     0\n",
       "dtype: int64"
      ]
     },
     "execution_count": 8,
     "metadata": {},
     "output_type": "execute_result"
    }
   ],
   "source": [
    "df.isna().sum() #number of missing values per column"
   ]
  },
  {
   "cell_type": "code",
   "execution_count": 9,
   "metadata": {},
   "outputs": [
    {
     "data": {
      "text/html": [
       "<div>\n",
       "<style scoped>\n",
       "    .dataframe tbody tr th:only-of-type {\n",
       "        vertical-align: middle;\n",
       "    }\n",
       "\n",
       "    .dataframe tbody tr th {\n",
       "        vertical-align: top;\n",
       "    }\n",
       "\n",
       "    .dataframe thead th {\n",
       "        text-align: right;\n",
       "    }\n",
       "</style>\n",
       "<table border=\"1\" class=\"dataframe\">\n",
       "  <thead>\n",
       "    <tr style=\"text-align: right;\">\n",
       "      <th></th>\n",
       "      <th>age</th>\n",
       "      <th>sex</th>\n",
       "      <th>bmi</th>\n",
       "      <th>children</th>\n",
       "      <th>smoker</th>\n",
       "      <th>region</th>\n",
       "      <th>charges</th>\n",
       "    </tr>\n",
       "  </thead>\n",
       "  <tbody>\n",
       "    <tr>\n",
       "      <th>0</th>\n",
       "      <td>19</td>\n",
       "      <td>female</td>\n",
       "      <td>27.900</td>\n",
       "      <td>0</td>\n",
       "      <td>yes</td>\n",
       "      <td>southwest</td>\n",
       "      <td>16884.92400</td>\n",
       "    </tr>\n",
       "    <tr>\n",
       "      <th>1</th>\n",
       "      <td>18</td>\n",
       "      <td>male</td>\n",
       "      <td>33.770</td>\n",
       "      <td>1</td>\n",
       "      <td>no</td>\n",
       "      <td>southeast</td>\n",
       "      <td>1725.55230</td>\n",
       "    </tr>\n",
       "    <tr>\n",
       "      <th>2</th>\n",
       "      <td>28</td>\n",
       "      <td>male</td>\n",
       "      <td>33.000</td>\n",
       "      <td>3</td>\n",
       "      <td>no</td>\n",
       "      <td>southeast</td>\n",
       "      <td>4449.46200</td>\n",
       "    </tr>\n",
       "    <tr>\n",
       "      <th>3</th>\n",
       "      <td>33</td>\n",
       "      <td>male</td>\n",
       "      <td>22.705</td>\n",
       "      <td>0</td>\n",
       "      <td>no</td>\n",
       "      <td>northwest</td>\n",
       "      <td>21984.47061</td>\n",
       "    </tr>\n",
       "    <tr>\n",
       "      <th>4</th>\n",
       "      <td>32</td>\n",
       "      <td>male</td>\n",
       "      <td>28.880</td>\n",
       "      <td>0</td>\n",
       "      <td>no</td>\n",
       "      <td>northwest</td>\n",
       "      <td>3866.85520</td>\n",
       "    </tr>\n",
       "    <tr>\n",
       "      <th>...</th>\n",
       "      <td>...</td>\n",
       "      <td>...</td>\n",
       "      <td>...</td>\n",
       "      <td>...</td>\n",
       "      <td>...</td>\n",
       "      <td>...</td>\n",
       "      <td>...</td>\n",
       "    </tr>\n",
       "    <tr>\n",
       "      <th>1333</th>\n",
       "      <td>50</td>\n",
       "      <td>male</td>\n",
       "      <td>30.970</td>\n",
       "      <td>3</td>\n",
       "      <td>no</td>\n",
       "      <td>northwest</td>\n",
       "      <td>10600.54830</td>\n",
       "    </tr>\n",
       "    <tr>\n",
       "      <th>1334</th>\n",
       "      <td>18</td>\n",
       "      <td>female</td>\n",
       "      <td>31.920</td>\n",
       "      <td>0</td>\n",
       "      <td>no</td>\n",
       "      <td>northeast</td>\n",
       "      <td>2205.98080</td>\n",
       "    </tr>\n",
       "    <tr>\n",
       "      <th>1335</th>\n",
       "      <td>18</td>\n",
       "      <td>female</td>\n",
       "      <td>36.850</td>\n",
       "      <td>0</td>\n",
       "      <td>no</td>\n",
       "      <td>southeast</td>\n",
       "      <td>1629.83350</td>\n",
       "    </tr>\n",
       "    <tr>\n",
       "      <th>1336</th>\n",
       "      <td>21</td>\n",
       "      <td>female</td>\n",
       "      <td>25.800</td>\n",
       "      <td>0</td>\n",
       "      <td>no</td>\n",
       "      <td>southwest</td>\n",
       "      <td>2007.94500</td>\n",
       "    </tr>\n",
       "    <tr>\n",
       "      <th>1337</th>\n",
       "      <td>61</td>\n",
       "      <td>female</td>\n",
       "      <td>29.070</td>\n",
       "      <td>0</td>\n",
       "      <td>yes</td>\n",
       "      <td>northwest</td>\n",
       "      <td>29141.36030</td>\n",
       "    </tr>\n",
       "  </tbody>\n",
       "</table>\n",
       "<p>1338 rows × 7 columns</p>\n",
       "</div>"
      ],
      "text/plain": [
       "      age     sex     bmi  children smoker     region      charges\n",
       "0      19  female  27.900         0    yes  southwest  16884.92400\n",
       "1      18    male  33.770         1     no  southeast   1725.55230\n",
       "2      28    male  33.000         3     no  southeast   4449.46200\n",
       "3      33    male  22.705         0     no  northwest  21984.47061\n",
       "4      32    male  28.880         0     no  northwest   3866.85520\n",
       "...   ...     ...     ...       ...    ...        ...          ...\n",
       "1333   50    male  30.970         3     no  northwest  10600.54830\n",
       "1334   18  female  31.920         0     no  northeast   2205.98080\n",
       "1335   18  female  36.850         0     no  southeast   1629.83350\n",
       "1336   21  female  25.800         0     no  southwest   2007.94500\n",
       "1337   61  female  29.070         0    yes  northwest  29141.36030\n",
       "\n",
       "[1338 rows x 7 columns]"
      ]
     },
     "execution_count": 9,
     "metadata": {},
     "output_type": "execute_result"
    }
   ],
   "source": [
    "df.dropna() #drop rows with any NA values"
   ]
  },
  {
   "cell_type": "code",
   "execution_count": 10,
   "metadata": {},
   "outputs": [
    {
     "name": "stdout",
     "output_type": "stream",
     "text": [
      "Number of Duplicates:  1\n"
     ]
    }
   ],
   "source": [
    "print(\"Number of Duplicates: \", df.duplicated().sum())"
   ]
  },
  {
   "cell_type": "code",
   "execution_count": 11,
   "metadata": {},
   "outputs": [
    {
     "data": {
      "text/plain": [
       "age           47\n",
       "sex            2\n",
       "bmi          548\n",
       "children       6\n",
       "smoker         2\n",
       "region         4\n",
       "charges     1337\n",
       "dtype: int64"
      ]
     },
     "execution_count": 11,
     "metadata": {},
     "output_type": "execute_result"
    }
   ],
   "source": [
    "df.nunique() #number of unique values in each column"
   ]
  },
  {
   "cell_type": "code",
   "execution_count": 12,
   "metadata": {},
   "outputs": [
    {
     "data": {
      "text/plain": [
       "Index(['age', 'sex', 'bmi', 'children', 'smoker', 'region', 'charges'], dtype='object')"
      ]
     },
     "execution_count": 12,
     "metadata": {},
     "output_type": "execute_result"
    }
   ],
   "source": [
    "df.columns #show all cloumns"
   ]
  },
  {
   "cell_type": "code",
   "execution_count": 13,
   "metadata": {},
   "outputs": [
    {
     "name": "stdout",
     "output_type": "stream",
     "text": [
      "Numerical Features : 4 : ['age', 'bmi', 'children', 'charges']\n",
      "Categorical Features : 3 : ['sex', 'smoker', 'region']\n"
     ]
    }
   ],
   "source": [
    "numerical_features = [feature for feature in df.columns if df[feature].dtype != 'O']\n",
    "categorical_features = [feature for feature in df.columns if df[feature].dtype == 'O']\n",
    "\n",
    "print('Numerical Features : {} : {}'.format(len(numerical_features), numerical_features))\n",
    "print('Categorical Features : {} : {}'.format(len(categorical_features), categorical_features))"
   ]
  },
  {
   "cell_type": "code",
   "execution_count": 14,
   "metadata": {},
   "outputs": [
    {
     "name": "stdout",
     "output_type": "stream",
     "text": [
      "Unique values in column 'sex': ['female' 'male']\n",
      "Unique values in column 'smoker': ['yes' 'no']\n",
      "Unique values in column 'region': ['southwest' 'southeast' 'northwest' 'northeast']\n"
     ]
    }
   ],
   "source": [
    "#get unique values in categorical columns\n",
    "for column in categorical_features:\n",
    "    unique_values = df[column].unique()\n",
    "    print(f\"Unique values in column '{column}': {unique_values}\")"
   ]
  },
  {
   "cell_type": "code",
   "execution_count": 15,
   "metadata": {},
   "outputs": [],
   "source": [
    "x = df.drop(columns=['charges'],axis=1) #dataframe contains all cloumns which shold be used to predicted\n",
    "y=df['charges'] #series contains to be predicted"
   ]
  },
  {
   "cell_type": "code",
   "execution_count": 16,
   "metadata": {},
   "outputs": [
    {
     "name": "stdout",
     "output_type": "stream",
     "text": [
      "   age     sex     bmi  children smoker     region\n",
      "0   19  female  27.900         0    yes  southwest\n",
      "1   18    male  33.770         1     no  southeast\n",
      "2   28    male  33.000         3     no  southeast\n",
      "3   33    male  22.705         0     no  northwest\n",
      "4   32    male  28.880         0     no  northwest\n",
      "<class 'pandas.core.frame.DataFrame'>\n"
     ]
    }
   ],
   "source": [
    "print(x.head())\n",
    "print(type(x)) #datatype of x"
   ]
  },
  {
   "cell_type": "code",
   "execution_count": 17,
   "metadata": {},
   "outputs": [
    {
     "name": "stdout",
     "output_type": "stream",
     "text": [
      "0    16884.92400\n",
      "1     1725.55230\n",
      "2     4449.46200\n",
      "3    21984.47061\n",
      "4     3866.85520\n",
      "Name: charges, dtype: float64\n",
      "<class 'pandas.core.series.Series'>\n"
     ]
    }
   ],
   "source": [
    "print(y.head())\n",
    "print(type(y)) #datatype of y"
   ]
  },
  {
   "cell_type": "code",
   "execution_count": 18,
   "metadata": {},
   "outputs": [
    {
     "name": "stdout",
     "output_type": "stream",
     "text": [
      "Shape of original data (x): (1338, 6)\n",
      "Shape of transformed data (X): (1338, 11)\n"
     ]
    }
   ],
   "source": [
    "from sklearn.preprocessing import OneHotEncoder, StandardScaler\n",
    "from sklearn.compose import ColumnTransformer\n",
    "\n",
    "numerical_features = x.select_dtypes(exclude=\"object\").columns\n",
    "categorical_features = x.select_dtypes(include=\"object\").columns\n",
    "\n",
    "numerical_transformer = StandardScaler()\n",
    "ohe_transformer = OneHotEncoder()\n",
    "\n",
    "preprocessor = ColumnTransformer(\n",
    "    [\n",
    "        (\"OneHotEncoder\", ohe_transformer, categorical_features),\n",
    "         (\"StandardScaler\", numerical_transformer, numerical_features),\n",
    "    ]\n",
    ")\n",
    "X = preprocessor.fit_transform(x)   #pre-processing source data x data and saving in X \n",
    "print(f\"Shape of original data (x): {x.shape}\")\n",
    "print(f\"Shape of transformed data (X): {X.shape}\")"
   ]
  },
  {
   "cell_type": "code",
   "execution_count": 19,
   "metadata": {},
   "outputs": [
    {
     "name": "stdout",
     "output_type": "stream",
     "text": [
      "Shape of training data : (1070, 11)\n",
      "Shape of test data : (268, 11)\n"
     ]
    }
   ],
   "source": [
    "from sklearn.model_selection import train_test_split\n",
    "\n",
    "X_train, X_test, y_train, y_test = train_test_split(X,y,test_size=0.2,random_state=None) #using 20% to test and 80% for training.\n",
    "print(f\"Shape of training data : {X_train.shape}\")\n",
    "print(f\"Shape of test data : {X_test.shape}\")"
   ]
  },
  {
   "cell_type": "code",
   "execution_count": 20,
   "metadata": {},
   "outputs": [
    {
     "name": "stdout",
     "output_type": "stream",
     "text": [
      "<class 'pandas.core.frame.DataFrame'>\n"
     ]
    },
    {
     "data": {
      "text/html": [
       "<div>\n",
       "<style scoped>\n",
       "    .dataframe tbody tr th:only-of-type {\n",
       "        vertical-align: middle;\n",
       "    }\n",
       "\n",
       "    .dataframe tbody tr th {\n",
       "        vertical-align: top;\n",
       "    }\n",
       "\n",
       "    .dataframe thead th {\n",
       "        text-align: right;\n",
       "    }\n",
       "</style>\n",
       "<table border=\"1\" class=\"dataframe\">\n",
       "  <thead>\n",
       "    <tr style=\"text-align: right;\">\n",
       "      <th></th>\n",
       "      <th>Model Name</th>\n",
       "      <th>MAE</th>\n",
       "      <th>MSE</th>\n",
       "      <th>RMSE</th>\n",
       "      <th>R2 Score</th>\n",
       "      <th>Adjusted R2 Score</th>\n",
       "    </tr>\n",
       "  </thead>\n",
       "  <tbody>\n",
       "  </tbody>\n",
       "</table>\n",
       "</div>"
      ],
      "text/plain": [
       "Empty DataFrame\n",
       "Columns: [Model Name, MAE, MSE, RMSE, R2 Score, Adjusted R2 Score]\n",
       "Index: []"
      ]
     },
     "execution_count": 20,
     "metadata": {},
     "output_type": "execute_result"
    }
   ],
   "source": [
    "#Initialise dataframe for Regression Performace Metrics\n",
    "performance_metrics={\n",
    "    'Model Name':[], \n",
    "    'MAE':[] ,\n",
    "    'MSE':[] ,\n",
    "    'RMSE':[] ,\n",
    "    'R2 Score':[],\n",
    "    'Adjusted R2 Score':[] \n",
    "    }\n",
    "df_ModelPerformance=pd.DataFrame(performance_metrics)\n",
    "print(type(df_ModelPerformance))\n",
    "df_ModelPerformance.head()"
   ]
  },
  {
   "cell_type": "code",
   "execution_count": 21,
   "metadata": {},
   "outputs": [],
   "source": [
    "from sklearn.metrics import r2_score, mean_absolute_error, mean_squared_error, root_mean_squared_error\n",
    "\n",
    "#Define a function to evaluate model\n",
    "def evaluate_model(true, predicted):\n",
    "    mae = mean_absolute_error(true, predicted)\n",
    "    mse = mean_squared_error(true, predicted)\n",
    "    rmse = root_mean_squared_error(true, predicted)\n",
    "    r2_square = r2_score(true, predicted)\n",
    "    return mae, mse, rmse, r2_square"
   ]
  },
  {
   "cell_type": "code",
   "execution_count": 22,
   "metadata": {},
   "outputs": [
    {
     "name": "stdout",
     "output_type": "stream",
     "text": [
      "--------------------------------------------------------------------------------\n",
      "2024-10-22 22:46:51 - Linear - performing training\n",
      "2024-10-22 22:46:51 - Linear - predecting test dataset\n",
      "2024-10-22 22:46:51 - Linear - evaluating performance of test dataset\n",
      "--------------------------------------------------------------------------------\n",
      "2024-10-22 22:46:51 - Lasso - performing training\n",
      "2024-10-22 22:46:51 - Lasso - predecting test dataset\n",
      "2024-10-22 22:46:51 - Lasso - evaluating performance of test dataset\n",
      "--------------------------------------------------------------------------------\n",
      "2024-10-22 22:46:51 - Ridge - performing training\n",
      "2024-10-22 22:46:51 - Ridge - predecting test dataset\n",
      "2024-10-22 22:46:51 - Ridge - evaluating performance of test dataset\n",
      "--------------------------------------------------------------------------------\n",
      "2024-10-22 22:46:51 - Bagging - performing training\n",
      "2024-10-22 22:46:51 - Bagging - predecting test dataset\n",
      "2024-10-22 22:46:51 - Bagging - evaluating performance of test dataset\n",
      "--------------------------------------------------------------------------------\n",
      "2024-10-22 22:46:51 - ExtraTrees - performing training\n",
      "2024-10-22 22:46:52 - ExtraTrees - predecting test dataset\n",
      "2024-10-22 22:46:52 - ExtraTrees - evaluating performance of test dataset\n",
      "--------------------------------------------------------------------------------\n",
      "2024-10-22 22:46:52 - SVR - performing training\n",
      "2024-10-22 22:46:52 - SVR - predecting test dataset\n",
      "2024-10-22 22:46:52 - SVR - evaluating performance of test dataset\n",
      "--------------------------------------------------------------------------------\n",
      "2024-10-22 22:46:52 - K-Neighbors - performing training\n",
      "2024-10-22 22:46:52 - K-Neighbors - predecting test dataset\n",
      "2024-10-22 22:46:52 - K-Neighbors - evaluating performance of test dataset\n",
      "--------------------------------------------------------------------------------\n",
      "2024-10-22 22:46:52 - Random Forest - performing training\n",
      "2024-10-22 22:46:52 - Random Forest - predecting test dataset\n",
      "2024-10-22 22:46:52 - Random Forest - evaluating performance of test dataset\n",
      "--------------------------------------------------------------------------------\n",
      "2024-10-22 22:46:52 - Decision Tree - performing training\n",
      "2024-10-22 22:46:52 - Decision Tree - predecting test dataset\n",
      "2024-10-22 22:46:52 - Decision Tree - evaluating performance of test dataset\n",
      "--------------------------------------------------------------------------------\n",
      "2024-10-22 22:46:52 - XGBRegressor - performing training\n",
      "2024-10-22 22:46:53 - XGBRegressor - predecting test dataset\n",
      "2024-10-22 22:46:53 - XGBRegressor - evaluating performance of test dataset\n",
      "--------------------------------------------------------------------------------\n",
      "2024-10-22 22:46:53 - Gradient Boost - performing training\n",
      "2024-10-22 22:46:53 - Gradient Boost - predecting test dataset\n",
      "2024-10-22 22:46:53 - Gradient Boost - evaluating performance of test dataset\n",
      "--------------------------------------------------------------------------------\n",
      "2024-10-22 22:46:53 - CatBoosting - performing training\n",
      "2024-10-22 22:46:55 - CatBoosting - predecting test dataset\n",
      "2024-10-22 22:46:55 - CatBoosting - evaluating performance of test dataset\n",
      "--------------------------------------------------------------------------------\n",
      "2024-10-22 22:46:55 - AdaBoost - performing training\n",
      "2024-10-22 22:46:55 - AdaBoost - predecting test dataset\n",
      "2024-10-22 22:46:55 - AdaBoost - evaluating performance of test dataset\n",
      "--------------------------------------------------------------------------------\n"
     ]
    }
   ],
   "source": [
    "#Define Models\n",
    "\n",
    "models = {\n",
    "    \"Linear\": LinearRegression(),\n",
    "    \"Lasso\": Lasso(alpha=0.1),\n",
    "    \"Ridge\": Ridge(),\n",
    "    \"Bagging\": BaggingRegressor(),\n",
    "    \"ExtraTrees\": ExtraTreesRegressor(),\n",
    "    \"SVR\": SVR(),\n",
    "    \"K-Neighbors\": KNeighborsRegressor(n_neighbors=5),\n",
    "    \"Random Forest\": RandomForestRegressor(),\n",
    "    \"Decision Tree\": DecisionTreeRegressor(),\n",
    "    \"XGBRegressor\": XGBRegressor(), \n",
    "    \"Gradient Boost\": GradientBoostingRegressor(),\n",
    "    \"CatBoosting\": CatBoostRegressor(verbose=False),\n",
    "    \"AdaBoost\": AdaBoostRegressor()\n",
    "}\n",
    "\n",
    "for key, value in models.items():\n",
    "    model_name = key\n",
    "    model = value\n",
    "    test_performance_metrics = {}\n",
    "\n",
    "    print('-'*80)\n",
    "    \n",
    "    t1=time.time()\n",
    "    print(f'{datetime.datetime.fromtimestamp(t1).strftime(\"%Y-%m-%d %H:%M:%S\")} - {model_name} - performing training')\n",
    "    model.fit(X_train, y_train) # Training the Model with training dataset\n",
    "\n",
    "    # Predicting Values of test dataset\n",
    "    t2=time.time()\n",
    "    print(f'{datetime.datetime.fromtimestamp(t2).strftime(\"%Y-%m-%d %H:%M:%S\")} - {model_name} - predecting test dataset')\n",
    "    y_test_pred = model.predict(X_test)\n",
    "    \n",
    "    # Evaluating Model Performance\n",
    "    t3=time.time()\n",
    "    print(f'{datetime.datetime.fromtimestamp(t3).strftime(\"%Y-%m-%d %H:%M:%S\")} - {model_name} - evaluating performance of test dataset')\n",
    "    model_test_mae ,model_test_mse, model_test_rmse, model_test_r2 = evaluate_model(y_test, y_test_pred)    \n",
    "    \n",
    "\n",
    "    model_test_adjusted_r2 = (1 - (1-model_test_r2)*(len(y)-1)/(len(y)-x.shape[1]-1))\n",
    "    model_test_mae = round(model_test_mae,2)\n",
    "    model_test_mse = round(model_test_mse,2)\n",
    "    model_test_rmse = round(model_test_rmse,2)\n",
    "    model_test_r2 = round(model_test_r2,2)\n",
    "    model_test_adjusted_r2 = round(model_test_adjusted_r2,2)\n",
    "\n",
    "\n",
    "    test_performance_metrics=pd.DataFrame({'Model Name':f'{model_name} (Test)', \n",
    "                                        'MAE':[model_test_mae] ,\n",
    "                                        'MSE':[model_test_mse] ,\n",
    "                                        'RMSE':[model_test_rmse] ,\n",
    "                                        'R2 Score':[model_test_r2],\n",
    "                                        'Adjusted R2 Score':[model_test_adjusted_r2]\n",
    "                                        })\n",
    "    df_ModelPerformance = pd.concat([test_performance_metrics,df_ModelPerformance], ignore_index=True)\n",
    "print('-'*80)"
   ]
  },
  {
   "cell_type": "code",
   "execution_count": 23,
   "metadata": {},
   "outputs": [
    {
     "data": {
      "text/html": [
       "<div>\n",
       "<style scoped>\n",
       "    .dataframe tbody tr th:only-of-type {\n",
       "        vertical-align: middle;\n",
       "    }\n",
       "\n",
       "    .dataframe tbody tr th {\n",
       "        vertical-align: top;\n",
       "    }\n",
       "\n",
       "    .dataframe thead th {\n",
       "        text-align: right;\n",
       "    }\n",
       "</style>\n",
       "<table border=\"1\" class=\"dataframe\">\n",
       "  <thead>\n",
       "    <tr style=\"text-align: right;\">\n",
       "      <th></th>\n",
       "      <th>Model Name</th>\n",
       "      <th>MAE</th>\n",
       "      <th>MSE</th>\n",
       "      <th>RMSE</th>\n",
       "      <th>R2 Score</th>\n",
       "      <th>Adjusted R2 Score</th>\n",
       "    </tr>\n",
       "  </thead>\n",
       "  <tbody>\n",
       "    <tr>\n",
       "      <th>2</th>\n",
       "      <td>Gradient Boost (Test)</td>\n",
       "      <td>2351.76</td>\n",
       "      <td>1.656742e+07</td>\n",
       "      <td>4070.31</td>\n",
       "      <td>0.89</td>\n",
       "      <td>0.89</td>\n",
       "    </tr>\n",
       "    <tr>\n",
       "      <th>1</th>\n",
       "      <td>CatBoosting (Test)</td>\n",
       "      <td>2486.04</td>\n",
       "      <td>1.828720e+07</td>\n",
       "      <td>4276.35</td>\n",
       "      <td>0.88</td>\n",
       "      <td>0.87</td>\n",
       "    </tr>\n",
       "    <tr>\n",
       "      <th>5</th>\n",
       "      <td>Random Forest (Test)</td>\n",
       "      <td>2521.96</td>\n",
       "      <td>1.888342e+07</td>\n",
       "      <td>4345.51</td>\n",
       "      <td>0.87</td>\n",
       "      <td>0.87</td>\n",
       "    </tr>\n",
       "    <tr>\n",
       "      <th>0</th>\n",
       "      <td>AdaBoost (Test)</td>\n",
       "      <td>3607.74</td>\n",
       "      <td>2.044622e+07</td>\n",
       "      <td>4521.75</td>\n",
       "      <td>0.86</td>\n",
       "      <td>0.86</td>\n",
       "    </tr>\n",
       "    <tr>\n",
       "      <th>9</th>\n",
       "      <td>Bagging (Test)</td>\n",
       "      <td>2721.29</td>\n",
       "      <td>2.091578e+07</td>\n",
       "      <td>4573.38</td>\n",
       "      <td>0.86</td>\n",
       "      <td>0.86</td>\n",
       "    </tr>\n",
       "    <tr>\n",
       "      <th>8</th>\n",
       "      <td>ExtraTrees (Test)</td>\n",
       "      <td>2384.90</td>\n",
       "      <td>2.189555e+07</td>\n",
       "      <td>4679.27</td>\n",
       "      <td>0.85</td>\n",
       "      <td>0.85</td>\n",
       "    </tr>\n",
       "    <tr>\n",
       "      <th>3</th>\n",
       "      <td>XGBRegressor (Test)</td>\n",
       "      <td>3143.63</td>\n",
       "      <td>2.552198e+07</td>\n",
       "      <td>5051.93</td>\n",
       "      <td>0.83</td>\n",
       "      <td>0.83</td>\n",
       "    </tr>\n",
       "    <tr>\n",
       "      <th>6</th>\n",
       "      <td>K-Neighbors (Test)</td>\n",
       "      <td>3611.36</td>\n",
       "      <td>3.326902e+07</td>\n",
       "      <td>5767.93</td>\n",
       "      <td>0.77</td>\n",
       "      <td>0.77</td>\n",
       "    </tr>\n",
       "    <tr>\n",
       "      <th>10</th>\n",
       "      <td>Ridge (Test)</td>\n",
       "      <td>4084.12</td>\n",
       "      <td>3.313238e+07</td>\n",
       "      <td>5756.07</td>\n",
       "      <td>0.77</td>\n",
       "      <td>0.77</td>\n",
       "    </tr>\n",
       "    <tr>\n",
       "      <th>11</th>\n",
       "      <td>Lasso (Test)</td>\n",
       "      <td>4080.70</td>\n",
       "      <td>3.314495e+07</td>\n",
       "      <td>5757.16</td>\n",
       "      <td>0.77</td>\n",
       "      <td>0.77</td>\n",
       "    </tr>\n",
       "    <tr>\n",
       "      <th>12</th>\n",
       "      <td>Linear (Test)</td>\n",
       "      <td>4095.47</td>\n",
       "      <td>3.327080e+07</td>\n",
       "      <td>5768.08</td>\n",
       "      <td>0.77</td>\n",
       "      <td>0.77</td>\n",
       "    </tr>\n",
       "    <tr>\n",
       "      <th>4</th>\n",
       "      <td>Decision Tree (Test)</td>\n",
       "      <td>3497.29</td>\n",
       "      <td>5.003996e+07</td>\n",
       "      <td>7073.89</td>\n",
       "      <td>0.66</td>\n",
       "      <td>0.66</td>\n",
       "    </tr>\n",
       "    <tr>\n",
       "      <th>7</th>\n",
       "      <td>SVR (Test)</td>\n",
       "      <td>8310.54</td>\n",
       "      <td>1.625291e+08</td>\n",
       "      <td>12748.69</td>\n",
       "      <td>-0.11</td>\n",
       "      <td>-0.11</td>\n",
       "    </tr>\n",
       "  </tbody>\n",
       "</table>\n",
       "</div>"
      ],
      "text/plain": [
       "               Model Name      MAE           MSE      RMSE  R2 Score  \\\n",
       "2   Gradient Boost (Test)  2351.76  1.656742e+07   4070.31      0.89   \n",
       "1      CatBoosting (Test)  2486.04  1.828720e+07   4276.35      0.88   \n",
       "5    Random Forest (Test)  2521.96  1.888342e+07   4345.51      0.87   \n",
       "0         AdaBoost (Test)  3607.74  2.044622e+07   4521.75      0.86   \n",
       "9          Bagging (Test)  2721.29  2.091578e+07   4573.38      0.86   \n",
       "8       ExtraTrees (Test)  2384.90  2.189555e+07   4679.27      0.85   \n",
       "3     XGBRegressor (Test)  3143.63  2.552198e+07   5051.93      0.83   \n",
       "6      K-Neighbors (Test)  3611.36  3.326902e+07   5767.93      0.77   \n",
       "10           Ridge (Test)  4084.12  3.313238e+07   5756.07      0.77   \n",
       "11           Lasso (Test)  4080.70  3.314495e+07   5757.16      0.77   \n",
       "12          Linear (Test)  4095.47  3.327080e+07   5768.08      0.77   \n",
       "4    Decision Tree (Test)  3497.29  5.003996e+07   7073.89      0.66   \n",
       "7              SVR (Test)  8310.54  1.625291e+08  12748.69     -0.11   \n",
       "\n",
       "    Adjusted R2 Score  \n",
       "2                0.89  \n",
       "1                0.87  \n",
       "5                0.87  \n",
       "0                0.86  \n",
       "9                0.86  \n",
       "8                0.85  \n",
       "3                0.83  \n",
       "6                0.77  \n",
       "10               0.77  \n",
       "11               0.77  \n",
       "12               0.77  \n",
       "4                0.66  \n",
       "7               -0.11  "
      ]
     },
     "execution_count": 23,
     "metadata": {},
     "output_type": "execute_result"
    }
   ],
   "source": [
    "pd.set_option('display.max_columns',None)\n",
    "\n",
    "filepath = f'../outputs/{time.strftime(\"%Y%m%d_%H%M%S\")}_ModelPerformance.csv'\n",
    "df_ModelPerformance.to_csv(filepath)  \n",
    "df_ModelPerformance.sort_values(by=['Adjusted R2 Score'], ascending=False)"
   ]
  }
 ],
 "metadata": {
  "kernelspec": {
   "display_name": "Python 3",
   "language": "python",
   "name": "python3"
  },
  "language_info": {
   "codemirror_mode": {
    "name": "ipython",
    "version": 3
   },
   "file_extension": ".py",
   "mimetype": "text/x-python",
   "name": "python",
   "nbconvert_exporter": "python",
   "pygments_lexer": "ipython3",
   "version": "3.12.0"
  }
 },
 "nbformat": 4,
 "nbformat_minor": 2
}
